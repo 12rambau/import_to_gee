{
 "cells": [
  {
   "cell_type": "code",
   "execution_count": null,
   "metadata": {},
   "outputs": [],
   "source": [
    "%load_ext autoreload\n",
    "%autoreload 2"
   ]
  },
  {
   "cell_type": "code",
   "execution_count": null,
   "metadata": {},
   "outputs": [],
   "source": [
    "from sepal_ui import sepalwidgets as sw\n",
    "from sepal_ui import aoi\n",
    "\n",
    "from component.message import cm\n",
    "from component import tile\n",
    "from component import widget"
   ]
  },
  {
   "cell_type": "code",
   "execution_count": null,
   "metadata": {},
   "outputs": [],
   "source": [
    "ig_import = tile.DownloadTile()\n",
    "ig_export = tile.ExportTile()\n",
    "ig_dialog = widget.LinkDialog(ig_export)"
   ]
  },
  {
   "cell_type": "code",
   "execution_count": null,
   "metadata": {},
   "outputs": [],
   "source": [
    "ig_aoi = aoi.AoiTile(methods=[\"ADMIN0\", \"ADMIN1\", \"ADMIN2\", \"ASSET\"])\n",
    "ig_aoi._metadata[\"mount_id\"] = \"tile_widget\"\n",
    "ig_tiling = tile.TileTile(ig_aoi.map, ig_aoi.view.model)\n",
    "ig_tile_dialog = widget.LinkDialog(ig_tiling)"
   ]
  },
  {
   "cell_type": "code",
   "execution_count": null,
   "metadata": {},
   "outputs": [],
   "source": [
    "ig_import"
   ]
  },
  {
   "cell_type": "code",
   "execution_count": null,
   "metadata": {},
   "outputs": [],
   "source": [
    "ig_export"
   ]
  },
  {
   "cell_type": "code",
   "execution_count": null,
   "metadata": {},
   "outputs": [],
   "source": [
    "ig_aoi"
   ]
  },
  {
   "cell_type": "code",
   "execution_count": null,
   "metadata": {},
   "outputs": [],
   "source": [
    "ig_tiling"
   ]
  },
  {
   "cell_type": "code",
   "execution_count": null,
   "metadata": {},
   "outputs": [],
   "source": [
    "ig_dialog"
   ]
  },
  {
   "cell_type": "code",
   "execution_count": null,
   "metadata": {},
   "outputs": [],
   "source": [
    "ig_tile_dialog"
   ]
  }
 ],
 "metadata": {
  "kernelspec": {
   "display_name": "(test) test-vector_manager",
   "language": "python",
   "name": "test-vector_manager"
  },
  "language_info": {
   "codemirror_mode": {
    "name": "ipython",
    "version": 3
   },
   "file_extension": ".py",
   "mimetype": "text/x-python",
   "name": "python",
   "nbconvert_exporter": "python",
   "pygments_lexer": "ipython3",
   "version": "3.10.12"
  }
 },
 "nbformat": 4,
 "nbformat_minor": 4
}
