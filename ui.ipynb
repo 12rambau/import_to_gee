{
 "cells": [
  {
   "cell_type": "code",
   "execution_count": null,
   "metadata": {},
   "outputs": [],
   "source": [
    "from sepal_ui import sepalwidgets as sw\n",
    "from component.message import cm"
   ]
  },
  {
   "cell_type": "code",
   "execution_count": null,
   "metadata": {},
   "outputs": [],
   "source": [
    "#create an appBar \n",
    "ig_appBar = sw.AppBar(cm.app.title)"
   ]
  },
  {
   "cell_type": "code",
   "execution_count": null,
   "metadata": {},
   "outputs": [],
   "source": [
    "#add tiles \n",
    "%run 'download_ui.ipynb'\n",
    "%run 'about_ui.ipynb'\n",
    "%run 'tiling_ui.ipynb'\n",
    "\n",
    "ig_content = [\n",
    "    ig_import,\n",
    "    ig_export,\n",
    "    ig_aoi,\n",
    "    ig_tiling,\n",
    "    ig_about,\n",
    "    ig_disclaimer\n",
    "]"
   ]
  },
  {
   "cell_type": "code",
   "execution_count": null,
   "metadata": {},
   "outputs": [],
   "source": [
    "#create a drawer \n",
    "items = [\n",
    "    sw.DrawerItem(cm.app.drawer_item.file, 'mdi-file-swap', card=\"aoi_tile\"),\n",
    "    sw.DrawerItem(cm.app.drawer_item.bfast_tile, 'mdi-border-all', card=\"tile_widget\"),\n",
    "    sw.DrawerItem(cm.app.drawer_item.about, 'mdi-help-circle', card=\"about_tile\")\n",
    "]\n",
    "\n",
    "code_link = \"https://github.com/openforis/import_to_gee\"\n",
    "wiki_link = \"https://github.com/openforis/import_to_gee/blob/master/README.md\"\n",
    "issue_link = \"https://github.com/openforis/import_to_gee/issues/new\"\n",
    "\n",
    "ig_drawer = sw.NavDrawer(items, code = code_link, wiki = wiki_link, issue = issue_link)"
   ]
  },
  {
   "cell_type": "code",
   "execution_count": null,
   "metadata": {},
   "outputs": [],
   "source": [
    "#build the app \n",
    "ig_app = sw.App(\n",
    "    tiles=ig_content, \n",
    "    appBar=ig_appBar, \n",
    "    navDrawer=ig_drawer\n",
    ").show_tile('aoi_tile')"
   ]
  },
  {
   "cell_type": "code",
   "execution_count": null,
   "metadata": {},
   "outputs": [],
   "source": [
    "# display the dialogs\n",
    "ig_dialog"
   ]
  },
  {
   "cell_type": "code",
   "execution_count": null,
   "metadata": {},
   "outputs": [],
   "source": [
    "ig_tile_dialog"
   ]
  },
  {
   "cell_type": "code",
   "execution_count": null,
   "metadata": {},
   "outputs": [],
   "source": [
    "#display the app\n",
    "ig_app"
   ]
  }
 ],
 "metadata": {
  "kernelspec": {
   "display_name": "Python 3",
   "language": "python",
   "name": "python3"
  },
  "language_info": {
   "codemirror_mode": {
    "name": "ipython",
    "version": 3
   },
   "file_extension": ".py",
   "mimetype": "text/x-python",
   "name": "python",
   "nbconvert_exporter": "python",
   "pygments_lexer": "ipython3",
   "version": "3.6.9"
  }
 },
 "nbformat": 4,
 "nbformat_minor": 4
}
