{
 "cells": [
  {
   "cell_type": "code",
   "execution_count": null,
   "metadata": {},
   "outputs": [],
   "source": [
    "from sepal_ui.scripts.utils import init_ee\n",
    "init_ee()\n",
    "from sepal_ui import sepalwidgets as sw\n",
    "from sepal_ui import aoi\n",
    "\n",
    "from component.message import cm\n",
    "from component import tile\n",
    "from component import widget"
   ]
  },
  {
   "cell_type": "code",
   "execution_count": null,
   "metadata": {},
   "outputs": [],
   "source": [
    "# create an appBar\n",
    "ig_appBar = sw.AppBar(cm.app.title)\n",
    "ig_about = sw.TileAbout(\"utils/about.md\")\n",
    "ig_disclaimer = sw.TileDisclaimer()"
   ]
  },
  {
   "cell_type": "code",
   "execution_count": null,
   "metadata": {},
   "outputs": [],
   "source": [
    "ig_import = tile.DownloadTile()\n",
    "ig_export = tile.ExportTile()\n",
    "ig_dialog = widget.LinkDialog(ig_export)"
   ]
  },
  {
   "cell_type": "code",
   "execution_count": null,
   "metadata": {},
   "outputs": [],
   "source": [
    "ig_aoi = aoi.AoiTile(methods=[\"ADMIN0\", \"ADMIN1\", \"ADMIN2\", \"ASSET\"])\n",
    "ig_aoi._metadata[\"mount_id\"] = \"tile_widget\"\n",
    "ig_tiling = tile.TileTile(ig_aoi.map, ig_aoi.view.model)\n",
    "ig_tile_dialog = widget.LinkDialog(ig_tiling)"
   ]
  },
  {
   "cell_type": "code",
   "execution_count": null,
   "metadata": {},
   "outputs": [],
   "source": [
    "ig_content = [ig_import, ig_export, ig_aoi, ig_tiling, ig_about, ig_disclaimer]"
   ]
  },
  {
   "cell_type": "code",
   "execution_count": null,
   "metadata": {},
   "outputs": [],
   "source": [
    "# create a drawer\n",
    "items = [\n",
    "    sw.DrawerItem(cm.app.drawer_item.file, \"mdi-file-swap\", card=\"aoi_tile\"),\n",
    "    sw.DrawerItem(cm.app.drawer_item.bfast_tile, \"mdi-border-all\", card=\"tile_widget\"),\n",
    "    sw.DrawerItem(cm.app.drawer_item.about, \"mdi-help-circle\", card=\"about_tile\"),\n",
    "]\n",
    "\n",
    "code_link = \"https://github.com/sepal-contrib/import_to_gee\"\n",
    "wiki_link = \"https://github.com/sepal-contrib/import_to_gee/blob/master/README.md\"\n",
    "issue_link = \"https://github.com/sepal-contrib/import_to_gee/issues/new\"\n",
    "\n",
    "ig_drawer = sw.NavDrawer(items, code=code_link, wiki=wiki_link, issue=issue_link)"
   ]
  },
  {
   "cell_type": "code",
   "execution_count": null,
   "metadata": {},
   "outputs": [],
   "source": [
    "# build the app\n",
    "ig_app = sw.App(tiles=ig_content, appBar=ig_appBar, navDrawer=ig_drawer).show_tile(\n",
    "    \"aoi_tile\"\n",
    ")"
   ]
  },
  {
   "cell_type": "code",
   "execution_count": null,
   "metadata": {},
   "outputs": [],
   "source": [
    "# display the dialogs\n",
    "ig_dialog"
   ]
  },
  {
   "cell_type": "code",
   "execution_count": null,
   "metadata": {},
   "outputs": [],
   "source": [
    "ig_tile_dialog"
   ]
  },
  {
   "cell_type": "code",
   "execution_count": null,
   "metadata": {},
   "outputs": [],
   "source": [
    "# display the app\n",
    "ig_app"
   ]
  }
 ],
 "metadata": {
  "kernelspec": {
   "display_name": " (venv) vector_manager",
   "language": "python",
   "name": "venv-vector_manager"
  },
  "language_info": {
   "codemirror_mode": {
    "name": "ipython",
    "version": 3
   },
   "file_extension": ".py",
   "mimetype": "text/x-python",
   "name": "python",
   "nbconvert_exporter": "python",
   "pygments_lexer": "ipython3",
   "version": "3.10.12"
  },
  "title": "GEE vector manager",
  "voila": {
   "theme": "dark"
  }
 },
 "nbformat": 4,
 "nbformat_minor": 4
}
