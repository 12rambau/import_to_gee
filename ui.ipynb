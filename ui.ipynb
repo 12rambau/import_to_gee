{
 "cells": [
  {
   "cell_type": "code",
   "execution_count": null,
   "metadata": {},
   "outputs": [],
   "source": [
    "from sepal_ui import sepalwidgets as sw"
   ]
  },
  {
   "cell_type": "code",
   "execution_count": null,
   "metadata": {},
   "outputs": [],
   "source": [
    "#create an appBar \n",
    "ig_appBar = sw.AppBar('Import to Google Earth Engine')"
   ]
  },
  {
   "cell_type": "code",
   "execution_count": null,
   "metadata": {},
   "outputs": [],
   "source": [
    "#add tiles \n",
    "%run 'download_ui.ipynb'\n",
    "%run 'aoi_selector_ui.ipynb'\n",
    "%run 'about_ui.ipynb'\n",
    "\n",
    "ig_content = [\n",
    "    ig_import,\n",
    "    ig_aoi,\n",
    "    ig_about,\n",
    "    ig_disclaimer\n",
    "]"
   ]
  },
  {
   "cell_type": "code",
   "execution_count": null,
   "metadata": {},
   "outputs": [],
   "source": [
    "#create a drawer \n",
    "item_aoi = sw.DrawerItem('AOI selection', 'mdi-map-marker-check', card=\"aoi_widget\").display_tile(ig_content)\n",
    "item_about = sw.DrawerItem('About', 'mdi-help-circle', card=\"about_widget\").display_tile(ig_content)\n",
    "\n",
    "code_link = \"https://github.com/12rambau/import_to_gee\"\n",
    "wiki_link = \"https://github.com/12rambau/import_to_gee/blob/master/README.md\"\n",
    "issue_link = \"https://github.com/12rambau/import_to_gee/issues/new\"\n",
    "\n",
    "items = [\n",
    "    item_aoi,\n",
    "    item_about\n",
    "]\n",
    "\n",
    "ig_drawer = sw.NavDrawer(items, code = code_link, wiki = wiki_link, issue = issue_link).display_drawer(ig_appBar.toggle_button)"
   ]
  },
  {
   "cell_type": "code",
   "execution_count": null,
   "metadata": {},
   "outputs": [],
   "source": [
    "#build the app \n",
    "ig_app = sw.App(\n",
    "    tiles=ig_content, \n",
    "    appBar=ig_appBar, \n",
    "    navDrawer=ig_drawer\n",
    ").show_tile('aoi_widget')"
   ]
  },
  {
   "cell_type": "code",
   "execution_count": null,
   "metadata": {},
   "outputs": [],
   "source": [
    "# display the dialog\n",
    "ig_dialog"
   ]
  },
  {
   "cell_type": "code",
   "execution_count": null,
   "metadata": {},
   "outputs": [],
   "source": [
    "#display the app\n",
    "ig_app"
   ]
  }
 ],
 "metadata": {
  "kernelspec": {
   "display_name": "Python 3",
   "language": "python",
   "name": "python3"
  },
  "language_info": {
   "codemirror_mode": {
    "name": "ipython",
    "version": 3
   },
   "file_extension": ".py",
   "mimetype": "text/x-python",
   "name": "python",
   "nbconvert_exporter": "python",
   "pygments_lexer": "ipython3",
   "version": "3.6.9"
  }
 },
 "nbformat": 4,
 "nbformat_minor": 4
}
