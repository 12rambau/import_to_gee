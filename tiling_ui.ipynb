{
 "cells": [
  {
   "cell_type": "code",
   "execution_count": null,
   "metadata": {},
   "outputs": [],
   "source": [
    "from sepal_ui import aoi\n",
    "from component import tile\n",
    "from component import widget"
   ]
  },
  {
   "cell_type": "code",
   "execution_count": null,
   "metadata": {
    "tags": []
   },
   "outputs": [],
   "source": [
    "# create the tile\n",
    "ig_aoi = aoi.AoiTile(methods=[\"ADMIN0\", \"ADMIN1\", \"ADMIN2\", \"ASSET\"])\n",
    "ig_aoi._metadata[\"mount_id\"] = \"tile_widget\"\n",
    "\n",
    "# this tile will only be displayed if voila is launch from this notebook\n",
    "ig_aoi"
   ]
  },
  {
   "cell_type": "code",
   "execution_count": null,
   "metadata": {},
   "outputs": [],
   "source": [
    "ig_tiling = tile.TileTile(ig_aoi.map, ig_aoi.view.model)\n",
    "ig_tiling"
   ]
  },
  {
   "cell_type": "code",
   "execution_count": null,
   "metadata": {},
   "outputs": [],
   "source": [
    "ig_tile_dialog = widget.LinkDialog(ig_tiling)\n",
    "ig_tile_dialog"
   ]
  }
 ],
 "metadata": {
  "kernelspec": {
   "display_name": "Python 3",
   "language": "python",
   "name": "python3"
  },
  "language_info": {
   "codemirror_mode": {
    "name": "ipython",
    "version": 3
   },
   "file_extension": ".py",
   "mimetype": "text/x-python",
   "name": "python",
   "nbconvert_exporter": "python",
   "pygments_lexer": "ipython3",
   "version": "3.8.10"
  }
 },
 "nbformat": 4,
 "nbformat_minor": 4
}
