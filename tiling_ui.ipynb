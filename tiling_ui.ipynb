{
 "cells": [
  {
   "cell_type": "code",
   "execution_count": 1,
   "metadata": {},
   "outputs": [
    {
     "data": {
      "application/vnd.jupyter.widget-view+json": {
       "model_id": "8ada357753ab478fababbc373c2b228d",
       "version_major": 2,
       "version_minor": 0
      },
      "text/plain": [
       "HTML(value='\\n<style>\\n.leaflet-pane {\\n    z-index : 2 !important;\\n}\\n.leaflet-top, .leaflet-bottom {\\n    z…"
      ]
     },
     "metadata": {},
     "output_type": "display_data"
    },
    {
     "data": {
      "application/vnd.jupyter.widget-view+json": {
       "model_id": "c7cda484a5064bb0a5d693348e4b4cbc",
       "version_major": 2,
       "version_minor": 0
      },
      "text/plain": [
       "ResizeTrigger()"
      ]
     },
     "metadata": {},
     "output_type": "display_data"
    }
   ],
   "source": [
    "from sepal_ui import aoi\n",
    "from component import tile"
   ]
  },
  {
   "cell_type": "code",
   "execution_count": 2,
   "metadata": {},
   "outputs": [
    {
     "data": {
      "application/vnd.jupyter.widget-view+json": {
       "model_id": "4b683c05ec9e43bea12fd12fb91d7cb7",
       "version_major": 2,
       "version_minor": 0
      },
      "text/plain": [
       "TileAoi(align_center=True, children=[Card(children=[Html(children=['AOI selection'], tag='h2'), Flex(children=…"
      ]
     },
     "metadata": {},
     "output_type": "display_data"
    }
   ],
   "source": [
    "#create the asset variables object \n",
    "ig_aoi_io = aoi.Aoi_io()\n",
    "\n",
    "#create the tile \n",
    "ig_aoi = aoi.TileAoi(ig_aoi_io, methods = ['Country boundaries', 'Use GEE asset'])\n",
    "ig_aoi._metadata['mount_id'] = 'tile_widget'\n",
    "\n",
    "#this tile will only be displayed if voila is launch from this notebook \n",
    "ig_aoi"
   ]
  },
  {
   "cell_type": "code",
   "execution_count": 3,
   "metadata": {},
   "outputs": [
    {
     "data": {
      "application/vnd.jupyter.widget-view+json": {
       "model_id": "d8ae0e0a312947c79f0104ded8cc6da0",
       "version_major": 2,
       "version_minor": 0
      },
      "text/plain": [
       "TileTile(align_center=True, children=[Card(children=[Html(children=['Tiling interface'], tag='h2'), Flex(child…"
      ]
     },
     "metadata": {},
     "output_type": "display_data"
    }
   ],
   "source": [
    "ig_tiling = tile.TileTile(ig_aoi.m, ig_aoi_io)\n",
    "ig_tiling"
   ]
  },
  {
   "cell_type": "code",
   "execution_count": 4,
   "metadata": {},
   "outputs": [
    {
     "data": {
      "application/vnd.jupyter.widget-view+json": {
       "model_id": "7ff266cae836427bbb41b6a9b864aeda",
       "version_major": 2,
       "version_minor": 0
      },
      "text/plain": [
       "TileDialog(children=[Card(children=[CardTitle(children=['Copy this link to you clipboard']), CardText(children…"
      ]
     },
     "metadata": {},
     "output_type": "display_data"
    }
   ],
   "source": [
    "ig_tile_dialog = tile.TileDialog(ig_tiling)\n",
    "ig_tile_dialog"
   ]
  }
 ],
 "metadata": {
  "kernelspec": {
   "display_name": "Python 3",
   "language": "python",
   "name": "python3"
  },
  "language_info": {
   "codemirror_mode": {
    "name": "ipython",
    "version": 3
   },
   "file_extension": ".py",
   "mimetype": "text/x-python",
   "name": "python",
   "nbconvert_exporter": "python",
   "pygments_lexer": "ipython3",
   "version": "3.6.9"
  }
 },
 "nbformat": 4,
 "nbformat_minor": 4
}
