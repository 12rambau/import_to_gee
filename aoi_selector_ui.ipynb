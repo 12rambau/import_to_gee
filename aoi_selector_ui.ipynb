{
 "cells": [
  {
   "cell_type": "code",
   "execution_count": null,
   "metadata": {},
   "outputs": [],
   "source": [
    "from sepal_ui import aoi\n",
    "from scripts.tile import *\n",
    "\n",
    "#create the asset variables object \n",
    "ig_aoi_io = aoi.Aoi_io()\n",
    "\n",
    "#create the tile \n",
    "ig_aoi = aoi.TileAoi(ig_aoi_io, methods = ['Draw a shape', 'Upload file', 'Use points file'])\n",
    "ig_aoi.set_title('Convert to Google Earth Engine asset')\n",
    "\n",
    "#this tile will only be displayed if voila is launch from this notebook \n",
    "ig_aoi"
   ]
  },
  {
   "cell_type": "code",
   "execution_count": null,
   "metadata": {},
   "outputs": [],
   "source": [
    "ig_dialog = LinkDialog(ig_aoi)\n",
    "ig_dialog"
   ]
  },
  {
   "cell_type": "code",
   "execution_count": null,
   "metadata": {},
   "outputs": [],
   "source": []
  }
 ],
 "metadata": {
  "kernelspec": {
   "display_name": "Python 3",
   "language": "python",
   "name": "python3"
  },
  "language_info": {
   "codemirror_mode": {
    "name": "ipython",
    "version": 3
   },
   "file_extension": ".py",
   "mimetype": "text/x-python",
   "name": "python",
   "nbconvert_exporter": "python",
   "pygments_lexer": "ipython3",
   "version": "3.6.9"
  }
 },
 "nbformat": 4,
 "nbformat_minor": 4
}
