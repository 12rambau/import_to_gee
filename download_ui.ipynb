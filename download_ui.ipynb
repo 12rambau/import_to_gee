{
 "cells": [
  {
   "cell_type": "code",
   "execution_count": 1,
   "metadata": {},
   "outputs": [
    {
     "data": {
      "application/vnd.jupyter.widget-view+json": {
       "model_id": "bad762fc61e04e76a22043e4dba4561a",
       "version_major": 2,
       "version_minor": 0
      },
      "text/plain": [
       "HTML(value='\\n<style>\\n.leaflet-pane {\\n    z-index : 2 !important;\\n}\\n.leaflet-top, .leaflet-bottom {\\n    z…"
      ]
     },
     "metadata": {},
     "output_type": "display_data"
    },
    {
     "data": {
      "application/vnd.jupyter.widget-view+json": {
       "model_id": "243e9aa0c38f4937b026b71f964faea0",
       "version_major": 2,
       "version_minor": 0
      },
      "text/plain": [
       "ResizeTrigger()"
      ]
     },
     "metadata": {},
     "output_type": "display_data"
    }
   ],
   "source": [
    "from sepal_ui import sepalwidgets as sw\n",
    "from functools import partial\n",
    "from ipyvuetify.extra import FileInput\n",
    "import ipyvuetify as v\n",
    "from pathlib import Path\n",
    "import unidecode"
   ]
  },
  {
   "cell_type": "code",
   "execution_count": 2,
   "metadata": {},
   "outputs": [],
   "source": [
    "# output \n",
    "import_output = sw.Alert().add_msg('import your file')\n",
    "\n",
    "# btn \n",
    "import_btn = sw.Btn('import', icon = 'mdi-check', class_='mt-4')\n",
    "\n",
    "# create the input \n",
    "input_file = FileInput(multiple = False)\n",
    "\n",
    "# create a file selector \n",
    "id_ = 'import_widget'\n",
    "title = \"Import a file\"\n",
    "\n",
    "import_tile = sw.Tile(\n",
    "    id_,\n",
    "    title,\n",
    "    btn=import_btn, \n",
    "    inputs=[input_file],\n",
    "    output=import_output\n",
    ")"
   ]
  },
  {
   "cell_type": "code",
   "execution_count": 3,
   "metadata": {},
   "outputs": [],
   "source": [
    "def import_on_click(widget, data, event, output):\n",
    "    \n",
    "    # toggle the btn\n",
    "    widget.toggle_loading()\n",
    "    \n",
    "    output.add_msg('start the downlaod')\n",
    "    \n",
    "    # load the files\n",
    "    myfiles = input_file.get_files()\n",
    "    \n",
    "    # test the selection\n",
    "    if not len(myfiles):\n",
    "        output.add_msg('No file selected', 'error')\n",
    "        return widget.toggle_loading()\n",
    "    \n",
    "    # create the path \n",
    "    path = Path('~/downloads').expanduser().joinpath(unidecode.unidecode(myfiles[0]['name']))\n",
    "    if path.is_file():\n",
    "        output.add_msg('File already exists', 'error')\n",
    "        return widget.toggle_loading()\n",
    "    \n",
    "    src = myfiles[0]['file_obj'] \n",
    "    with path.open('wb') as dst:\n",
    "        content = bytes(src.read())\n",
    "        dst.write(content)\n",
    "            \n",
    "    output.add_msg(f'Download complete in {path}', 'success')\n",
    "    \n",
    "    return widget.toggle_loading()\n",
    "\n",
    "import_btn.on_event('click', partial(import_on_click, output = import_output))"
   ]
  },
  {
   "cell_type": "code",
   "execution_count": 4,
   "metadata": {},
   "outputs": [
    {
     "data": {
      "application/vnd.jupyter.widget-view+json": {
       "model_id": "64ea901a788540d4b9180b7a13bac93a",
       "version_major": 2,
       "version_minor": 0
      },
      "text/plain": [
       "Tile(align_center=True, children=[Card(children=[Html(children=['Import a file'], tag='h2'), Flex(children=[Fi…"
      ]
     },
     "metadata": {},
     "output_type": "display_data"
    }
   ],
   "source": [
    "import_tile"
   ]
  }
 ],
 "metadata": {
  "kernelspec": {
   "display_name": "Python 3",
   "language": "python",
   "name": "python3"
  },
  "language_info": {
   "codemirror_mode": {
    "name": "ipython",
    "version": 3
   },
   "file_extension": ".py",
   "mimetype": "text/x-python",
   "name": "python",
   "nbconvert_exporter": "python",
   "pygments_lexer": "ipython3",
   "version": "3.6.9"
  }
 },
 "nbformat": 4,
 "nbformat_minor": 4
}
