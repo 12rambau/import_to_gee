{
 "cells": [
  {
   "cell_type": "code",
   "execution_count": null,
   "metadata": {},
   "outputs": [],
   "source": [
    "from sepal_ui import sepalwidgets as sw\n",
    "from functools import partial\n",
    "from ipyvuetify.extra import FileInput\n",
    "import ipyvuetify as v\n",
    "from pathlib import Path\n",
    "import unidecode\n",
    "\n",
    "from utils import parameter as pm"
   ]
  },
  {
   "cell_type": "code",
   "execution_count": null,
   "metadata": {},
   "outputs": [],
   "source": [
    "# output \n",
    "import_output = sw.Alert().add_msg('import your file')\n",
    "\n",
    "# btn \n",
    "import_btn = sw.Btn('import', icon = 'mdi-check', class_='mt-4')\n",
    "\n",
    "# create the input \n",
    "input_file = FileInput(\n",
    "    multiple = False, \n",
    "    accept = \"image/png, image/jpeg, image/bmp\"\n",
    ")\n",
    "\n",
    "# create a file selector \n",
    "id_ = 'aoi_widget'\n",
    "title = \"Import a file\"\n",
    "\n",
    "ig_import = sw.Tile(\n",
    "    id_,\n",
    "    title,\n",
    "    btn=import_btn, \n",
    "    inputs=[input_file],\n",
    "    output=import_output\n",
    ")"
   ]
  },
  {
   "cell_type": "code",
   "execution_count": null,
   "metadata": {},
   "outputs": [],
   "source": [
    "def import_on_click(widget, data, event, output):\n",
    "    \n",
    "    # toggle the btn\n",
    "    widget.toggle_loading()\n",
    "    \n",
    "    output.add_msg('start the downlaod')\n",
    "    \n",
    "    # load the files\n",
    "    myfiles = input_file.get_files()\n",
    "    \n",
    "    # test the selection\n",
    "    if not len(myfiles):\n",
    "        output.add_msg('No file selected', 'error')\n",
    "        return widget.toggle_loading()\n",
    "    \n",
    "    # create the path \n",
    "    path = Path(pm.get_down_dir()).joinpath(unidecode.unidecode(myfiles[0]['name']))\n",
    "    if path.is_file():\n",
    "        output.add_msg('File already exists', 'error')\n",
    "        return widget.toggle_loading()\n",
    "    \n",
    "    src = myfiles[0]['file_obj'] \n",
    "    with path.open('wb') as dst:\n",
    "        content = bytes(src.read())\n",
    "        dst.write(content)\n",
    "            \n",
    "    output.add_msg(f'Download complete in {path}', 'success')\n",
    "    \n",
    "    return widget.toggle_loading()\n",
    "\n",
    "import_btn.on_event('click', partial(import_on_click, output = import_output))"
   ]
  },
  {
   "cell_type": "code",
   "execution_count": null,
   "metadata": {},
   "outputs": [],
   "source": [
    "ig_import"
   ]
  },
  {
   "cell_type": "code",
   "execution_count": null,
   "metadata": {},
   "outputs": [],
   "source": []
  }
 ],
 "metadata": {
  "kernelspec": {
   "display_name": "Python 3",
   "language": "python",
   "name": "python3"
  },
  "language_info": {
   "codemirror_mode": {
    "name": "ipython",
    "version": 3
   },
   "file_extension": ".py",
   "mimetype": "text/x-python",
   "name": "python",
   "nbconvert_exporter": "python",
   "pygments_lexer": "ipython3",
   "version": "3.6.9"
  }
 },
 "nbformat": 4,
 "nbformat_minor": 4
}
